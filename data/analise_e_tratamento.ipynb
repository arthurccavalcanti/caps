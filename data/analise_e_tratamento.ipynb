{
 "cells": [
  {
   "cell_type": "code",
   "execution_count": 1,
   "id": "3da1f200-8bbf-4f94-b1c1-e0fd96eaadcf",
   "metadata": {},
   "outputs": [],
   "source": [
    "import pandas as pd\n",
    "from pathlib import Path"
   ]
  },
  {
   "cell_type": "code",
   "execution_count": 2,
   "id": "da1b60ac-37e9-43a9-a708-5e0e0f7c8104",
   "metadata": {},
   "outputs": [
    {
     "name": "stderr",
     "output_type": "stream",
     "text": [
      "/tmp/ipykernel_26433/581604596.py:4: DtypeWarning: Columns (0) have mixed types. Specify dtype option on import or set low_memory=False.\n",
      "  df_ativo = pd.read_csv(data_file_ativo, delimiter = \";\")\n",
      "/tmp/ipykernel_26433/581604596.py:7: DtypeWarning: Columns (0,3,7,12,14) have mixed types. Specify dtype option on import or set low_memory=False.\n",
      "  df_inativo = pd.read_csv(data_file_inativo, delimiter = \";\")\n"
     ]
    }
   ],
   "source": [
    "current_dir = Path().cwd()\n",
    "\n",
    "data_file_ativo = current_dir.parent / 'data' / 'empresasativender.csv'\n",
    "df_ativo = pd.read_csv(data_file_ativo, delimiter = \";\")\n",
    "\n",
    "data_file_inativo = current_dir.parent / 'data' / 'empresasinativender.csv'\n",
    "df_inativo = pd.read_csv(data_file_inativo, delimiter = \";\")"
   ]
  },
  {
   "cell_type": "code",
   "execution_count": 3,
   "id": "73e7ea2c-4141-495c-a2c0-4d65e5630302",
   "metadata": {
    "scrolled": true
   },
   "outputs": [
    {
     "name": "stdout",
     "output_type": "stream",
     "text": [
      "Nome da coluna 0: cnpj\n",
      "Nome da coluna 3: cod_logradouro\n",
      "Nome da coluna 7: cod_bairro\n",
      "Nome da coluna 12: cod_grupo\n",
      "Nome da coluna 14: cnae\n"
     ]
    }
   ],
   "source": [
    "COLUNAS_COM_PROBLEMA = [0, 3, 7, 12, 14]\n",
    "\n",
    "for x in COLUNAS_COM_PROBLEMA:\n",
    "    column_name = df_ativo.columns[x]\n",
    "    print(f\"Nome da coluna {x}: {column_name}\")"
   ]
  },
  {
   "cell_type": "code",
   "execution_count": 4,
   "id": "35a96298-d2a2-45a3-9104-dd7f06913ac5",
   "metadata": {},
   "outputs": [
    {
     "name": "stdout",
     "output_type": "stream",
     "text": [
      "cnpj (ativo):\n",
      "value_type\n",
      "<class 'str'>    289275\n",
      "<class 'int'>     65536\n",
      "\n",
      "\n",
      "cnpj (inativo):\n",
      "value_type\n",
      "<class 'str'>    360448\n",
      "<class 'int'>     22344\n",
      "\n",
      "\n",
      "cod_logradouro (inativo):\n",
      "value_type\n",
      "<class 'int'>      350024\n",
      "<class 'str'>       32765\n",
      "<class 'float'>         3\n",
      "\n",
      "\n",
      "cod_bairro (inativo):\n",
      "value_type\n",
      "<class 'int'>      350024\n",
      "<class 'str'>       32765\n",
      "<class 'float'>         3\n",
      "\n",
      "\n",
      "cod_grupo (inativo):\n",
      "value_type\n",
      "<class 'int'>      350024\n",
      "<class 'str'>       32765\n",
      "<class 'float'>         3\n",
      "\n",
      "\n",
      "cnae (inativo):\n",
      "value_type\n",
      "<class 'int'>      350024\n",
      "<class 'str'>       32765\n",
      "<class 'float'>         3\n",
      "\n",
      "\n"
     ]
    }
   ],
   "source": [
    "problem_col = df_ativo.columns[0]\n",
    "    \n",
    "df_ativo['value_type'] = df_ativo[problem_col].apply(type)\n",
    "    \n",
    "type_counts = df_ativo['value_type'].value_counts()\n",
    "print(f\"{problem_col} (ativo):\")\n",
    "print(type_counts.to_string())\n",
    "print(\"\\n\")\n",
    "\n",
    "for x in [0, 3, 7, 12, 14]:\n",
    "    problem_col = df_inativo.columns[x]\n",
    "    \n",
    "    df_inativo['value_type'] = df_inativo[problem_col].apply(type)\n",
    "    \n",
    "    type_counts = df_inativo['value_type'].value_counts()\n",
    "    print(f\"{problem_col} (inativo):\")\n",
    "    print(type_counts.to_string())\n",
    "    print(\"\\n\")"
   ]
  },
  {
   "cell_type": "code",
   "execution_count": 5,
   "id": "3f175962-e605-49d7-9385-db0f997c0821",
   "metadata": {},
   "outputs": [],
   "source": [
    "# Converte colunas em float com NaN pras strings invalidas\n",
    "problem_col = df_ativo.columns[0]\n",
    "df_ativo[problem_col] = pd.to_numeric(df_ativo[problem_col], errors='coerce').astype('Int64')\n",
    "\n",
    "for x in [0, 3, 7, 12, 14]:\n",
    "    problem_col = df_inativo.columns[x]\n",
    "    df_inativo[problem_col] = pd.to_numeric(df_inativo[problem_col], errors='coerce').astype('Int64')"
   ]
  },
  {
   "cell_type": "code",
   "execution_count": 6,
   "id": "74369b2a-9bfe-4783-ab53-73b65261bffb",
   "metadata": {
    "scrolled": true
   },
   "outputs": [
    {
     "name": "stdout",
     "output_type": "stream",
     "text": [
      "cnpj (ativo):\n",
      "value_type\n",
      "<class 'float'>    354811\n",
      "\n",
      "\n",
      "cnpj (inativo):\n",
      "value_type\n",
      "<class 'float'>    382792\n",
      "\n",
      "\n",
      "cod_logradouro (inativo):\n",
      "value_type\n",
      "<class 'float'>    382792\n",
      "\n",
      "\n",
      "cod_bairro (inativo):\n",
      "value_type\n",
      "<class 'float'>    382792\n",
      "\n",
      "\n",
      "cod_grupo (inativo):\n",
      "value_type\n",
      "<class 'float'>    382792\n",
      "\n",
      "\n",
      "cnae (inativo):\n",
      "value_type\n",
      "<class 'float'>    382792\n",
      "\n",
      "\n"
     ]
    }
   ],
   "source": [
    "problem_col = df_ativo.columns[0]\n",
    "    \n",
    "df_ativo['value_type'] = df_ativo[problem_col].apply(type)\n",
    "    \n",
    "type_counts = df_ativo['value_type'].value_counts()\n",
    "print(f\"{problem_col} (ativo):\")\n",
    "print(type_counts.to_string())\n",
    "print(\"\\n\")\n",
    "\n",
    "for x in COLUNAS_COM_PROBLEMA:\n",
    "    problem_col = df_inativo.columns[x]\n",
    "    \n",
    "    df_inativo['value_type'] = df_inativo[problem_col].apply(type)\n",
    "    \n",
    "    type_counts = df_inativo['value_type'].value_counts()\n",
    "    print(f\"{problem_col} (inativo):\")\n",
    "    print(type_counts.to_string())\n",
    "    print(\"\\n\")\n",
    "\n",
    "df_ativo.drop(columns=\"value_type\", inplace = True)\n",
    "df_inativo.drop(columns=\"value_type\", inplace = True)"
   ]
  },
  {
   "cell_type": "code",
   "execution_count": 7,
   "id": "fe550df0-bd9a-418e-8c0f-4607d2a688bd",
   "metadata": {},
   "outputs": [],
   "source": [
    "df_ativo.to_csv('empresasativender_tratado.csv', sep=';', index=False)\n",
    "df_inativo.to_csv('empresasinativender_tratado.csv', sep=';', index=False)"
   ]
  }
 ],
 "metadata": {
  "kernelspec": {
   "display_name": "Python 3 (ipykernel)",
   "language": "python",
   "name": "python3"
  },
  "language_info": {
   "codemirror_mode": {
    "name": "ipython",
    "version": 3
   },
   "file_extension": ".py",
   "mimetype": "text/x-python",
   "name": "python",
   "nbconvert_exporter": "python",
   "pygments_lexer": "ipython3",
   "version": "3.13.7"
  }
 },
 "nbformat": 4,
 "nbformat_minor": 5
}
